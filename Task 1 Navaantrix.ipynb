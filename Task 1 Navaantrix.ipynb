{
 "cells": [
  {
   "cell_type": "code",
   "execution_count": 1,
   "id": "369e9113",
   "metadata": {},
   "outputs": [],
   "source": [
    "import pandas as pd\n",
    "import os"
   ]
  },
  {
   "cell_type": "code",
   "execution_count": 2,
   "id": "47661b11",
   "metadata": {},
   "outputs": [],
   "source": [
    "# File path for the sales dataset\n",
    "FILE_PATH = 'sales.csv'\n",
    "\n",
    "# Initialize CSV file with headers if it doesn't exist\n",
    "def initialize_csv():\n",
    "    if not os.path.exists(FILE_PATH):\n",
    "        df = pd.DataFrame(columns=['ID', 'Product', 'Quantity', 'Price', 'Date'])\n",
    "        df.to_csv(FILE_PATH, index=False)\n",
    "        print(\"Created new sales.csv file with headers.\")"
   ]
  },
  {
   "cell_type": "code",
   "execution_count": 3,
   "id": "2c4c7fac",
   "metadata": {},
   "outputs": [],
   "source": [
    "# Create: Insert new records into the dataset\n",
    "def create_record(record):\n",
    "    df = pd.read_csv(FILE_PATH)\n",
    "    df = df._append(record, ignore_index=True)\n",
    "    df.to_csv(FILE_PATH, index=False)\n",
    "    print(\"Record added successfully.\")\n"
   ]
  },
  {
   "cell_type": "code",
   "execution_count": 4,
   "id": "f84d79a4",
   "metadata": {},
   "outputs": [],
   "source": [
    "# Read: Retrieve and display specific records\n",
    "def read_records(column, value):\n",
    "    df = pd.read_csv(FILE_PATH)\n",
    "    results = df[df[column] == value]\n",
    "    if results.empty:\n",
    "        print(\"No matching records found.\")\n",
    "    else:\n",
    "        print(\"Matching records:\")\n",
    "        print(results)"
   ]
  },
  {
   "cell_type": "code",
   "execution_count": 5,
   "id": "48e63ead",
   "metadata": {},
   "outputs": [],
   "source": [
    "# Update: Modify existing records\n",
    "def update_record(record_id, updates):\n",
    "    df = pd.read_csv(FILE_PATH)\n",
    "    if record_id in df['ID'].values:\n",
    "        for key, value in updates.items():\n",
    "            df.loc[df['ID'] == record_id, key] = value\n",
    "        df.to_csv(FILE_PATH, index=False)\n",
    "        print(f\"Record with ID {record_id} updated.\")\n",
    "    else:\n",
    "        print(\"Record not found.\")"
   ]
  },
  {
   "cell_type": "code",
   "execution_count": 6,
   "id": "bf4d5517",
   "metadata": {},
   "outputs": [],
   "source": [
    "# Delete: Remove specific records\n",
    "def delete_record(record_id):\n",
    "    df = pd.read_csv(FILE_PATH)\n",
    "    if record_id in df['ID'].values:\n",
    "        df = df[df['ID'] != record_id]\n",
    "        df.to_csv(FILE_PATH, index=False)\n",
    "        print(f\"Record with ID {record_id} deleted.\")\n",
    "    else:\n",
    "        print(\"Record not found.\")"
   ]
  },
  {
   "cell_type": "code",
   "execution_count": 7,
   "id": "0df5ccd0",
   "metadata": {},
   "outputs": [
    {
     "name": "stdout",
     "output_type": "stream",
     "text": [
      "Record added successfully.\n",
      "Record added successfully.\n",
      "Matching records:\n",
      "    ID Product  Quantity  Price        Date\n",
      "0    1  Laptop         3  70000  2025-06-29\n",
      "1    1  Laptop         3  70000  2025-06-29\n",
      "2    1  Laptop         3  70000  2025-06-29\n",
      "3    1  Laptop         3  70000  2025-06-29\n",
      "4    1  Laptop         3  70000  2025-06-29\n",
      "5    1  Laptop         3  70000  2025-06-29\n",
      "6    1  Laptop         3  70000  2025-06-29\n",
      "7    1  Laptop         3  70000  2025-06-29\n",
      "8    1  Laptop         3  70000  2025-06-29\n",
      "9    1  Laptop         3  70000  2025-06-29\n",
      "10   1  Laptop         2  75000  2025-06-29\n",
      "Record with ID 1 updated.\n",
      "Record with ID 2 deleted.\n"
     ]
    }
   ],
   "source": [
    "# Example usage\n",
    "if __name__ == \"__main__\":\n",
    "    initialize_csv()\n",
    "\n",
    "    # Create records\n",
    "    create_record({'ID': 1, 'Product': 'Laptop', 'Quantity': 2, 'Price': 75000, 'Date': '2025-06-29'})\n",
    "    create_record({'ID': 2, 'Product': 'Mouse', 'Quantity': 5, 'Price': 500, 'Date': '2025-06-28'})\n",
    "\n",
    "    # Read record by Product name\n",
    "    read_records('Product', 'Laptop')\n",
    "\n",
    "    # Update a record by ID\n",
    "    update_record(1, {'Price': 70000, 'Quantity': 3})\n",
    "\n",
    "    # Delete a record by ID\n",
    "    delete_record(2)"
   ]
  }
 ],
 "metadata": {
  "kernelspec": {
   "display_name": "Python 3 (ipykernel)",
   "language": "python",
   "name": "python3"
  },
  "language_info": {
   "codemirror_mode": {
    "name": "ipython",
    "version": 3
   },
   "file_extension": ".py",
   "mimetype": "text/x-python",
   "name": "python",
   "nbconvert_exporter": "python",
   "pygments_lexer": "ipython3",
   "version": "3.11.5"
  }
 },
 "nbformat": 4,
 "nbformat_minor": 5
}
